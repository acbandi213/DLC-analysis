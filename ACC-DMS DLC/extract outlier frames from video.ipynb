{
 "cells": [
  {
   "cell_type": "code",
   "execution_count": 88,
   "metadata": {},
   "outputs": [],
   "source": [
    "import numpy as np\n",
    "from numpy import save\n",
    "import pandas as pd\n",
    "import glob\n",
    "import cv2  \n",
    "import os\n",
    "import sys\n",
    "import yaml\n",
    "from ruamel.yaml import YAML"
   ]
  },
  {
   "cell_type": "code",
   "execution_count": 82,
   "metadata": {},
   "outputs": [],
   "source": [
    "file_path = r\"Y:\\DLC\\ACC_DMS_nphr_skeleton-acb-2020-09-14\"\n",
    "file_path2 = file_path + \"\\\\videos2\"\n",
    "vidpath = \"Y:\\\\DLC\\\\ACC_DMS_nphr_skeleton-acb-2020-09-14\\\\videos2\\\\104_e629_las_20200629_104616DLC_resnet50_ACC DMS nphr skeletonSept14shuffle1_450000_labeled.mp4\"\n",
    "\n",
    "how_many_frames_to_extract = 20"
   ]
  },
  {
   "cell_type": "code",
   "execution_count": 83,
   "metadata": {},
   "outputs": [],
   "source": [
    "os.chdir(file_path2)\n",
    "\n",
    "df = pd.DataFrame(np.load('uncertain_frames.npy'), columns = ['uncertain'])\n",
    "df2 = pd.DataFrame(np.load('jump_frames.npy'), columns = ['jump'])\n",
    "df3 = pd.DataFrame(np.load('fitting_frames.npy'), columns = ['fitting'])"
   ]
  },
  {
   "cell_type": "code",
   "execution_count": 84,
   "metadata": {},
   "outputs": [],
   "source": [
    "#find frames that are identified as outliers in all 3 outlier identification algorthms and then unique to only that outlier algorthm \n",
    "#numpy.intersect1d - https://numpy.org/doc/stable/reference/generated/numpy.intersect1d.htm\n",
    "#numpy.setxor1d - https://numpy.org/doc/stable/reference/generated/numpy.setxor1d.html\n",
    "\n",
    "from functools import reduce\n",
    "\n",
    "found_in_all_three = pd.DataFrame(reduce(np.intersect1d, (df['uncertain'], df2['jump'], df3['fitting'])), columns = ['common'])"
   ]
  },
  {
   "cell_type": "code",
   "execution_count": 85,
   "metadata": {},
   "outputs": [],
   "source": [
    "#get number of random frames from each list \n",
    "found_in_all_three_extract = pd.DataFrame(found_in_all_three['common'].sample(n=how_many_frames_to_extract))\n",
    "uncertain_extract = pd.DataFrame(df['uncertain'].sample(n=how_many_frames_to_extract))\n",
    "jump_extract = pd.DataFrame(df2['jump'].sample(n=how_many_frames_to_extract))\n",
    "fitting_extract = pd.DataFrame(df3['fitting'].sample(n=how_many_frames_to_extract))"
   ]
  },
  {
   "cell_type": "code",
   "execution_count": 86,
   "metadata": {},
   "outputs": [],
   "source": [
    "#cv2 \n",
    "vid = cv2.VideoCapture(vidpath)\n",
    "num = list(range(how_many_frames_to_extract))"
   ]
  },
  {
   "cell_type": "code",
   "execution_count": 87,
   "metadata": {},
   "outputs": [],
   "source": [
    "#extract frames found in all 3 \n",
    "for i in num:\n",
    "    start_frame = found_in_all_three_extract['common'].iloc[i]\n",
    "    end_frame = start_frame + 1 \n",
    "    for i in range(start_frame, end_frame):\n",
    "        vid.set(1, i)\n",
    "        ret, still = vid.read()\n",
    "        #cv2.imwrite(f'{vidpath}_frame{i}.jpg', still)\n",
    "        cv2.imwrite(f'all_three{i}.jpg', still)"
   ]
  },
  {
   "cell_type": "code",
   "execution_count": 70,
   "metadata": {},
   "outputs": [],
   "source": [
    "#extract frames found in just 'uncertain'\n",
    "for i in num:\n",
    "    start_frame = uncertain_extract['uncertain'].iloc[i]\n",
    "    end_frame = start_frame + 1 \n",
    "    for i in range(start_frame, end_frame):\n",
    "        vid.set(1, i)\n",
    "        ret, still = vid.read()\n",
    "        cv2.imwrite(f'uncertain{i}.jpg', still)"
   ]
  },
  {
   "cell_type": "code",
   "execution_count": 71,
   "metadata": {},
   "outputs": [],
   "source": [
    "#extract frames found in just 'jump'\n",
    "for i in num:\n",
    "    start_frame = jump_extract['jump'].iloc[i]\n",
    "    end_frame = start_frame + 1 \n",
    "    for i in range(start_frame, end_frame):\n",
    "        vid.set(1, i)\n",
    "        ret, still = vid.read()\n",
    "        cv2.imwrite(f'jump{i}.jpg', still)"
   ]
  },
  {
   "cell_type": "code",
   "execution_count": 72,
   "metadata": {},
   "outputs": [],
   "source": [
    "#extract frames found in just 'fitting'\n",
    "for i in array:\n",
    "    start_frame = fitting_extract['fitting'].iloc[i]\n",
    "    end_frame = start_frame + 1 \n",
    "    for i in range(start_frame, end_frame):\n",
    "        vid.set(1, i)\n",
    "        ret, still = vid.read()\n",
    "        cv2.imwrite(f'fitting{i}.jpg', still)"
   ]
  }
 ],
 "metadata": {
  "kernelspec": {
   "display_name": "Python 3",
   "language": "python",
   "name": "python3"
  },
  "language_info": {
   "codemirror_mode": {
    "name": "ipython",
    "version": 3
   },
   "file_extension": ".py",
   "mimetype": "text/x-python",
   "name": "python",
   "nbconvert_exporter": "python",
   "pygments_lexer": "ipython3",
   "version": "3.7.3"
  }
 },
 "nbformat": 4,
 "nbformat_minor": 2
}
