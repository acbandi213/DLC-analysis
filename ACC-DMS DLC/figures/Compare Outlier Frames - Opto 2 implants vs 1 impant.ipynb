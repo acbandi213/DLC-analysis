{
 "cells": [
  {
   "cell_type": "code",
   "execution_count": 1,
   "metadata": {},
   "outputs": [],
   "source": [
    "import numpy as np\n",
    "import pandas as pd\n",
    "import glob\n",
    "import os\n",
    "import matplotlib.pyplot as plt\n",
    "%matplotlib inline"
   ]
  },
  {
   "cell_type": "code",
   "execution_count": 11,
   "metadata": {},
   "outputs": [],
   "source": [
    "#Path of Opto - 2 implant network \n",
    "\n",
    "path = r'Y:\\DLC\\ACC-DMS_nphr-acb-2020-07-30'\n",
    "os.chdir(path)"
   ]
  },
  {
   "cell_type": "code",
   "execution_count": 18,
   "metadata": {},
   "outputs": [],
   "source": [
    "#Dataframe of 2 implant network \n",
    "\n",
    "df = pd.DataFrame(np.load('file_names.npy'), columns = ['video'])\n",
    "df['2implants - uncertain'] = np.load('uncertain.npy') * 100\n",
    "df['2implants - jump'] = np.load('jump.npy') * 100\n",
    "#df['2implants - fitting'] = np.load('fitting.npy') * 100"
   ]
  },
  {
   "cell_type": "code",
   "execution_count": 15,
   "metadata": {},
   "outputs": [],
   "source": [
    "#Path of Opto - 1 implant network\n",
    "\n",
    "path = r'Y:\\DLC\\ACC_DMS_nphr_2-acb-2020-09-09'\n",
    "os.chdir(path)"
   ]
  },
  {
   "cell_type": "code",
   "execution_count": 16,
   "metadata": {},
   "outputs": [],
   "source": [
    "#Dataframe of 1 implant network \n",
    "\n",
    "df2 = pd.DataFrame(np.load('file_names.npy'), columns = ['video'])\n",
    "df2['1implant - uncertain'] = np.load('uncertain.npy')*100\n",
    "df2['1implant - jump'] = np.load('jump.npy')*100\n",
    "#df2['1implant - fitting'] = np.load('fitting.npy')*100"
   ]
  },
  {
   "cell_type": "code",
   "execution_count": null,
   "metadata": {},
   "outputs": [],
   "source": [
    "#Add 1 implant columns to 2 implant dataframe \n",
    "\n",
    "df['1implant - uncertain'] = df2['1implant - uncertain'] \n",
    "df['1implant - jump'] = df2['1implant - jump']\n",
    "df['1implant - fitting'] = df2['1implant - fitting']"
   ]
  },
  {
   "cell_type": "code",
   "execution_count": null,
   "metadata": {},
   "outputs": [],
   "source": [
    "#dataframes of different extraction methods \n",
    "\n",
    "df4 = df[['2implants - uncertain', '1implant - uncertain']]\n",
    "df5 = df[['2implants - jump', '1implant - jump']]\n",
    "df6 = df[['2implants - fitting', '1implant - fitting']]"
   ]
  },
  {
   "cell_type": "code",
   "execution_count": null,
   "metadata": {},
   "outputs": [],
   "source": [
    "path = r'C:\\Users\\acbandi\\Desktop'\n",
    "os.chdir(path)\n",
    "\n",
    "#figure - boxplot showing the distrbutions of percent outlier for each extraction method \n",
    "\n",
    "fig, (ax1, ax2, ax3) = plt.subplots(1, 3, figsize=(25,5))\n",
    "\n",
    "df4.plot.box(ax=ax1, ylim=(4,10), figsize=(10,4))\n",
    "ax1.set_title(\"'uncertain' extraction method\")\n",
    "ax1.set_ylabel(\"percent of frames labeled as 'outlier'\")\n",
    "\n",
    "df5.plot.box(ax=ax2, ylim=(10,30), figsize=(10,4))\n",
    "ax2.set_title(\"'jump' extraction method\")\n",
    "\n",
    "df6.plot.box(ax=ax3, ylim=(4,15), figsize=(10,4))\n",
    "ax3.set_title(\"'fitting' extraction method\")\n",
    "\n",
    "\n",
    "fig.tight_layout()\n",
    "plt.savefig('outliers.png', dpi=100)\n",
    "plt.show()"
   ]
  }
 ],
 "metadata": {
  "kernelspec": {
   "display_name": "Python 3",
   "language": "python",
   "name": "python3"
  },
  "language_info": {
   "codemirror_mode": {
    "name": "ipython",
    "version": 3
   },
   "file_extension": ".py",
   "mimetype": "text/x-python",
   "name": "python",
   "nbconvert_exporter": "python",
   "pygments_lexer": "ipython3",
   "version": "3.7.3"
  }
 },
 "nbformat": 4,
 "nbformat_minor": 2
}
