{
 "cells": [
  {
   "cell_type": "code",
   "execution_count": 1,
   "metadata": {},
   "outputs": [],
   "source": [
    "# Data Import \n",
    "\n",
    "import numpy as np \n",
    "import pandas as pd \n",
    "import matplotlib.pyplot as plt\n",
    "import seaborn as sns\n",
    "import glob\n",
    "%matplotlib inline\n",
    "import os\n",
    "\n",
    "os.chdir(r'/Users/acbandi/Documents/Portfolio/code projects/IBL DLC/alf')"
   ]
  },
  {
   "cell_type": "code",
   "execution_count": 68,
   "metadata": {},
   "outputs": [],
   "source": [
    "df = pd.DataFrame(np.load('_ibl_trials.intervals.npy')[:,0], columns = ['Trial Start'])\n",
    "df['GC trigger'] = np.load('_ibl_trials.goCueTrigger_times.npy') #Go cue trigger time \n",
    "df['Stim On'] = np.load('_ibl_trials.stimOn_times.npy') #time of stim onset \n",
    "df['Go Cue'] = np.load('_ibl_trials.goCue_times.npy') #Go cue delivery time \n",
    "df['Response'] = np.load('_ibl_trials.response_times.npy') #time that response was registered \n",
    "df['Feedback times'] = np.load('_ibl_trials.feedback_times.npy') #Time of feedback delivery (reward or noise) in seconds relative to session start\n",
    "df['Trial End'] = np.load('_ibl_trials.intervals.npy')[:,1]\n",
    "\n",
    "df['Trial Choice'] = np.load('_ibl_trials.choice.npy') # -1 (turn CCW), +1 (turn CW), or 0 (nogo)\n",
    "df['Trial Contrast L'] = np.load('_ibl_trials.contrastLeft.npy') #contrast of L-stim 0-1, NaN if stim is on other side\n",
    "df['Trial Contrast R'] = np.load('_ibl_trials.contrastRight.npy') #contrast of R-stim 0-1, NaN if stim is on other side\n",
    "df['Feedback type'] = np.load('_ibl_trials.feedbackType.npy') #-1 for negative, 1 for positive, 0 for no feedback\n",
    "df['Opto'] = np.load('_ibl_trials.opto.npy') #Whether trial was Opto (1) or No (0)\n",
    "df['Opto Prob'] = np.load('_ibl_trials.opto_probability_left.npy') #Probability of Opto\n",
    "\n",
    "#times converted to approx frame based on frame rate of 150Hz \n",
    "df['fTS'] = df['Trial Start']*150\n",
    "df['fSO'] = df['Stim On']*150\n",
    "df['fGo'] = df['Go Cue']*150\n",
    "df['fRes'] = df['Response']*150\n",
    "df['fFeed'] = df['Feedback times']*150\n",
    "df['fTE'] = df['Trial End']*150"
   ]
  },
  {
   "cell_type": "code",
   "execution_count": 70,
   "metadata": {},
   "outputs": [],
   "source": [
    "extension = 'csv'\n",
    "result = glob.glob('*.{}'.format(extension))\n",
    "\n",
    "df2 = pd.read_csv(result[0], skiprows=2)\n",
    "\n",
    "df2 = df2.iloc[2:len(df2.index), np.r_[0,1,2,4,5,7,8,10,11,13,14,16,17,19,20,22,23,25,26,28,29,31,32,34,35,37,38,40,41,\n",
    "                                       43,44,46,47,49,50,52,53,55,56,58,59]]  # subselect dataframe\n",
    "\n",
    "df2.columns = ['frame','earx','eary','eyetopx','eyetopy','eyerx','eyery','eyebotx','eyeboty','eyelx','eyely','nosetipx','nosetipy','tubetopx','tubetopy','tubebottomx','tubebottomy',\n",
    "             'chinx','chiny','whiskerx','whiskery','tonguelx','tonguely','tonguerx','tonguery',\n",
    "             'pinkyrx','pinkyry','ringrx','ringry','middlerx','middlery','pointerrx','pointerry',\n",
    "             'pinkylx','pinkyly','ringlx','ringly','middlelx','middlely','pointerlx','pointerly']"
   ]
  },
  {
   "cell_type": "code",
   "execution_count": 4,
   "metadata": {},
   "outputs": [],
   "source": [
    "def euclid(x1,y1,x2,y2):\n",
    "    return (((((x2-x1)**2 + (y2-y1)**2)**.5)/9.18)/10)\n",
    "\n",
    "def speed(x1,y1,x2,y2):\n",
    "    return euclid(x1,y1,x2,y2)/(1/150)"
   ]
  },
  {
   "cell_type": "code",
   "execution_count": 5,
   "metadata": {},
   "outputs": [],
   "source": [
    "#input joint \n",
    "\n",
    "jointx = 'pointerrx'\n",
    "jointy = 'pointerry'"
   ]
  },
  {
   "cell_type": "code",
   "execution_count": 6,
   "metadata": {},
   "outputs": [],
   "source": [
    "#Mean speed of right pointer finger joint from trial start to stim on time\n",
    "\n",
    "speed_mean = [] \n",
    "\n",
    "for val in df.index:\n",
    "    \n",
    "    start = int((df['fTS'][val]))\n",
    "    stop = int((df['fSO'][val]))\n",
    "    \n",
    "    speed_calc = []\n",
    "\n",
    "    for val2 in df2[(df2.index >= start) & (df2.index < stop)].index:\n",
    "    \n",
    "        sp = np.array(speed(df2[jointx].iloc[val2],df2[jointy].iloc[val2],\n",
    "            df2[jointx].iloc[val2+1],df2[jointy].iloc[val2+1])).mean()\n",
    "        \n",
    "    speed_calc.append(sp)\n",
    "    \n",
    "    speed_mean.append(speed_calc)\n",
    "\n",
    "df['S1'] = np.array(speed_mean)"
   ]
  },
  {
   "cell_type": "code",
   "execution_count": 7,
   "metadata": {},
   "outputs": [],
   "source": [
    "#Mean speed of right pointer finger joint from stim onset to Go Cue \n",
    "\n",
    "speed_mean = [] \n",
    "\n",
    "for val in df.index:\n",
    "    \n",
    "    start = int((df['fSO'][val]))\n",
    "    stop = int((df['fGo'][val]))\n",
    "    \n",
    "    speed_calc = []\n",
    "\n",
    "    for val2 in df2[(df2.index >= start) & (df2.index < stop)].index:\n",
    "    \n",
    "        sp = np.array(speed(df2[jointx].iloc[val2],df2[jointy].iloc[val2],\n",
    "            df2[jointx].iloc[val2+1],df2[jointy].iloc[val2+1])).mean()\n",
    "        \n",
    "    speed_calc.append(sp)\n",
    "    \n",
    "    speed_mean.append(speed_calc)\n",
    "\n",
    "df['S2'] = np.array(speed_mean)"
   ]
  },
  {
   "cell_type": "code",
   "execution_count": 8,
   "metadata": {},
   "outputs": [],
   "source": [
    "#Mean speed of right pointer finger joint from Go Cue to Response registered time \n",
    "\n",
    "speed_mean = [] \n",
    "\n",
    "for val in df.index:\n",
    "    \n",
    "    start = int((df['fGo'][val]))\n",
    "    stop = int((df['fRes'][val]))\n",
    "    \n",
    "    speed_calc = []\n",
    "\n",
    "    for val2 in df2[(df2.index >= start) & (df2.index < stop)].index:\n",
    "    \n",
    "        sp = np.array(speed(df2[jointx].iloc[val2],df2[jointy].iloc[val2],\n",
    "            df2[jointx].iloc[val2+1],df2[jointy].iloc[val2+1])).mean()\n",
    "        \n",
    "    speed_calc.append(sp)\n",
    "    \n",
    "    speed_mean.append(speed_calc)\n",
    "\n",
    "df['S3'] = np.array(speed_mean)"
   ]
  },
  {
   "cell_type": "code",
   "execution_count": 9,
   "metadata": {},
   "outputs": [],
   "source": [
    "#Mean speed of right pointer finger joint from Response registered time to feedback time \n",
    "\n",
    "speed_mean = [] \n",
    "\n",
    "for val in df.index:\n",
    "    \n",
    "    start = int((df['fRes'][val]))\n",
    "    stop = int((df['fFeed'][val]))\n",
    "    \n",
    "    speed_calc = []\n",
    "\n",
    "    for val2 in df2[(df2.index >= start) & (df2.index < stop)].index:\n",
    "    \n",
    "        sp = np.array(speed(df2[jointx].iloc[val2],df2[jointy].iloc[val2],\n",
    "            df2[jointx].iloc[val2+1],df2[jointy].iloc[val2+1])).mean()\n",
    "        \n",
    "    speed_calc.append(sp)\n",
    "    \n",
    "    speed_mean.append(speed_calc)\n",
    "\n",
    "df['S4'] = np.array(speed_mean)"
   ]
  },
  {
   "cell_type": "code",
   "execution_count": 10,
   "metadata": {},
   "outputs": [],
   "source": [
    "#Mean speed of right pointer finger joint from feedback time to trial end \n",
    "\n",
    "speed_mean = [] \n",
    "\n",
    "for val in df.index:\n",
    "    \n",
    "    start = int((df['fFeed'][val]))\n",
    "    stop = int((df['fTE'][val]))\n",
    "    \n",
    "    speed_calc = []\n",
    "\n",
    "    for val2 in df2[(df2.index >= start) & (df2.index < stop)].index:\n",
    "    \n",
    "        sp = np.array(speed(df2[jointx].iloc[val2],df2[jointy].iloc[val2],\n",
    "            df2[jointx].iloc[val2+1],df2[jointy].iloc[val2+1])).mean()\n",
    "        \n",
    "    speed_calc.append(sp)\n",
    "    \n",
    "    speed_mean.append(speed_calc)\n",
    "\n",
    "df['S5'] = np.array(speed_mean)"
   ]
  },
  {
   "cell_type": "code",
   "execution_count": 11,
   "metadata": {},
   "outputs": [],
   "source": [
    "#Mean speed of right pointer finger joint during ITI \n",
    "\n",
    "speed_mean = [] \n",
    "\n",
    "for val in df[(df.index < 737)].index:\n",
    "    \n",
    "    start = int((df['fTE'][val]))\n",
    "    stop = int((df['fTS'][val+1]))\n",
    "    \n",
    "    speed_calc = []\n",
    "\n",
    "    for val2 in df2[(df2.index >= start) & (df2.index < stop)].index:\n",
    "    \n",
    "        sp = np.array(speed(df2[jointx].iloc[val2],df2[jointy].iloc[val2],\n",
    "            df2[jointx].iloc[val2+1],df2[jointy].iloc[val2+1])).mean()\n",
    "        \n",
    "    speed_calc.append(sp)\n",
    "    \n",
    "    speed_mean.append(speed_calc)"
   ]
  },
  {
   "cell_type": "code",
   "execution_count": 12,
   "metadata": {},
   "outputs": [],
   "source": [
    "speed_mean.append([0])\n",
    "df['S-ITI'] = np.array(speed_mean)"
   ]
  }
 ],
 "metadata": {
  "kernelspec": {
   "display_name": "Python 3",
   "language": "python",
   "name": "python3"
  },
  "language_info": {
   "codemirror_mode": {
    "name": "ipython",
    "version": 3
   },
   "file_extension": ".py",
   "mimetype": "text/x-python",
   "name": "python",
   "nbconvert_exporter": "python",
   "pygments_lexer": "ipython3",
   "version": "3.7.6"
  }
 },
 "nbformat": 4,
 "nbformat_minor": 4
}
